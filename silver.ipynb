{
 "cells": [
  {
   "cell_type": "code",
   "execution_count": 0,
   "metadata": {
    "application/vnd.databricks.v1+cell": {
     "cellMetadata": {
      "byteLimit": 2048000,
      "rowLimit": 10000
     },
     "inputWidgets": {},
     "nuid": "2ba6e2a3-08d4-477d-a32e-45331c846f8f",
     "showTitle": false,
     "title": ""
    }
   },
   "outputs": [],
   "source": [
    "from pyspark.context import SparkContext\n",
    "from pyspark.sql.session import SparkSession\n",
    "sc = SparkContext.getOrCreate()\n",
    "spark = SparkSession(sc)\n",
    "\n",
    "orders_path = 'dbfs:/FileStore/tables/bronze/orders.csv'\n",
    "customers_path = 'dbfs:/FileStore/tables/bronze/customers.csv'\n",
    "store_path = 'dbfs:/FileStore/tables/bronze/stores.csv'\n",
    "order_items_path = 'dbfs:/FileStore/tables/bronze/order_items.csv'\n",
    "products_path = 'dbfs:/FileStore/tables/bronze/products.csv'"
   ]
  },
  {
   "cell_type": "code",
   "execution_count": 0,
   "metadata": {
    "application/vnd.databricks.v1+cell": {
     "cellMetadata": {
      "byteLimit": 2048000,
      "rowLimit": 10000
     },
     "inputWidgets": {},
     "nuid": "957397f9-247b-43f4-aff9-5ebed6a572c0",
     "showTitle": false,
     "title": ""
    }
   },
   "outputs": [],
   "source": [
    "\n",
    "from pyspark.sql.types import IntegerType, StringType, StructField, StructType\n",
    "\n",
    "orders_schema = StructType([\n",
    "    StructField(\"ORDER_ID\", IntegerType(), False),\n",
    "    StructField(\"ORDER_DATETIME\", StringType(), False),\n",
    "    StructField(\"CUSTOMER_ID\", IntegerType(), False),\n",
    "    StructField(\"ORDER_STATUS\", StringType(), False),\n",
    "    StructField(\"STORE_ID\", IntegerType(), False)\n",
    "])\n",
    "\n",
    "store_schema = StructType([\n",
    "    StructField(\"STORE_ID\", IntegerType(), False),\n",
    "    StructField(\"STORE_NAME\", StringType(), False),\n",
    "    # StructField(\"ORDER_STATUS\", StringType(), False),\n",
    "    # StructField(\"STORE_ID\",)\n",
    "])"
   ]
  },
  {
   "cell_type": "code",
   "execution_count": 0,
   "metadata": {
    "application/vnd.databricks.v1+cell": {
     "cellMetadata": {
      "byteLimit": 2048000,
      "rowLimit": 10000
     },
     "inputWidgets": {},
     "nuid": "2425f16b-fed0-4348-b48c-2db6d7ddb3c5",
     "showTitle": false,
     "title": ""
    }
   },
   "outputs": [],
   "source": [
    "orders_df = spark.read.csv(path=orders_path, schema=orders_schema, header=True)\n",
    "\n",
    "store_df = spark.read.csv(path=store_path, schema=store_schema, header=True)"
   ]
  },
  {
   "cell_type": "code",
   "execution_count": 0,
   "metadata": {
    "application/vnd.databricks.v1+cell": {
     "cellMetadata": {
      "byteLimit": 2048000,
      "rowLimit": 10000
     },
     "inputWidgets": {},
     "nuid": "18f375f2-3498-4bf2-8623-341d4db59c8e",
     "showTitle": false,
     "title": ""
    }
   },
   "outputs": [],
   "source": [
    "orders_df.display()"
   ]
  },
  {
   "cell_type": "code",
   "execution_count": 0,
   "metadata": {
    "application/vnd.databricks.v1+cell": {
     "cellMetadata": {
      "byteLimit": 2048000,
      "rowLimit": 10000
     },
     "inputWidgets": {},
     "nuid": "b31573c0-7f3c-4f3b-ba35-65a614c00858",
     "showTitle": false,
     "title": ""
    }
   },
   "outputs": [],
   "source": [
    "store_df.display() "
   ]
  },
  {
   "cell_type": "code",
   "execution_count": 0,
   "metadata": {
    "application/vnd.databricks.v1+cell": {
     "cellMetadata": {
      "byteLimit": 2048000,
      "rowLimit": 10000
     },
     "inputWidgets": {},
     "nuid": "1759754e-edba-4f06-aa3a-9c89e9546ec8",
     "showTitle": false,
     "title": ""
    }
   },
   "outputs": [],
   "source": [
    "orders_silver = orders_df.join(store_df, orders_df['STORE_ID'] == store_df['STORE_ID'])"
   ]
  },
  {
   "cell_type": "code",
   "execution_count": 0,
   "metadata": {
    "application/vnd.databricks.v1+cell": {
     "cellMetadata": {
      "byteLimit": 2048000,
      "rowLimit": 10000
     },
     "inputWidgets": {},
     "nuid": "c79f43cc-51d0-404a-92ec-23f3f05e3fe3",
     "showTitle": false,
     "title": ""
    }
   },
   "outputs": [],
   "source": [
    "orders_silver.display()"
   ]
  },
  {
   "cell_type": "code",
   "execution_count": 0,
   "metadata": {
    "application/vnd.databricks.v1+cell": {
     "cellMetadata": {
      "byteLimit": 2048000,
      "rowLimit": 10000
     },
     "inputWidgets": {},
     "nuid": "3bb8e33d-1861-426f-a90b-11c382660197",
     "showTitle": false,
     "title": ""
    }
   },
   "outputs": [],
   "source": [
    "from pyspark.sql.functions import to_timestamp\n",
    "\n",
    "\n",
    "selected_orders = orders_silver.select(orders_silver['ORDER_ID'], to_timestamp(orders_silver['ORDER_DATETIME'], 'dd-MMM-yy HH.mm.ss.00').alias('ORDER_TIMESTAMP'), orders_silver['CUSTOMER_ID'], orders_silver['STORE_NAME']).where(orders_silver['ORDER_STATUS'] == 'COMPLETE')"
   ]
  },
  {
   "cell_type": "code",
   "execution_count": 0,
   "metadata": {
    "application/vnd.databricks.v1+cell": {
     "cellMetadata": {
      "byteLimit": 2048000,
      "rowLimit": 10000
     },
     "inputWidgets": {},
     "nuid": "2cadf9ae-80b6-4492-b019-42cf9c4e460c",
     "showTitle": false,
     "title": ""
    }
   },
   "outputs": [],
   "source": [
    "selected_orders.display()"
   ]
  },
  {
   "cell_type": "code",
   "execution_count": 0,
   "metadata": {
    "application/vnd.databricks.v1+cell": {
     "cellMetadata": {
      "byteLimit": 2048000,
      "rowLimit": 10000
     },
     "inputWidgets": {},
     "nuid": "4b43b530-74bb-4b00-8034-a54a7e47d54b",
     "showTitle": false,
     "title": ""
    }
   },
   "outputs": [],
   "source": [
    "selected_orders.write.parquet(path='dbfs:/FileStore/tables/silver/orders.csv')"
   ]
  },
  {
   "cell_type": "code",
   "execution_count": 0,
   "metadata": {
    "application/vnd.databricks.v1+cell": {
     "cellMetadata": {
      "byteLimit": 2048000,
      "rowLimit": 10000
     },
     "inputWidgets": {},
     "nuid": "89b9aff6-73b0-449a-8b39-8a7a11a8d45a",
     "showTitle": false,
     "title": ""
    }
   },
   "outputs": [],
   "source": [
    "spark.read.parquet('dbfs:/FileStore/tables/silver/orders.csv', header=True).display()"
   ]
  },
  {
   "cell_type": "code",
   "execution_count": 0,
   "metadata": {
    "application/vnd.databricks.v1+cell": {
     "cellMetadata": {},
     "inputWidgets": {},
     "nuid": "b2eec6fa-14d5-4240-82f5-131761f19b3e",
     "showTitle": false,
     "title": ""
    }
   },
   "outputs": [],
   "source": []
  }
 ],
 "metadata": {
  "application/vnd.databricks.v1+notebook": {
   "dashboards": [],
   "language": "python",
   "notebookMetadata": {
    "pythonIndentUnit": 4
   },
   "notebookName": "silver",
   "widgets": {}
  },
  "kernelspec": {
   "display_name": "python_selenium",
   "language": "python",
   "name": "python3"
  },
  "language_info": {
   "codemirror_mode": {
    "name": "ipython",
    "version": 3
   },
   "file_extension": ".py",
   "mimetype": "text/x-python",
   "name": "python",
   "nbconvert_exporter": "python",
   "pygments_lexer": "ipython3",
   "version": "3.11.6"
  }
 },
 "nbformat": 4,
 "nbformat_minor": 0
}
