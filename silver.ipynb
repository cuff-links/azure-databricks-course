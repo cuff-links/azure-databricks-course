{
 "cells": [
  {
   "cell_type": "code",
   "execution_count": 0,
   "metadata": {
    "application/vnd.databricks.v1+cell": {
     "cellMetadata": {
      "byteLimit": 2048000,
      "rowLimit": 10000
     },
     "inputWidgets": {},
     "nuid": "2ba6e2a3-08d4-477d-a32e-45331c846f8f",
     "showTitle": false,
     "title": ""
    }
   },
   "outputs": [],
   "source": [
    "from pyspark.context import SparkContext\n",
    "from pyspark.sql.session import SparkSession\n",
    "sc = SparkContext.getOrCreate()\n",
    "spark = SparkSession(sc)\n",
    "\n",
    "orders_path = 'dbfs:/FileStore/tables/bronze/orders.csv'\n",
    "customers_path = 'dbfs:/FileStore/tables/bronze/customers.csv'\n",
    "store_path = 'dbfs:/FileStore/tables/bronze/stores.csv'\n",
    "order_items_path = 'dbfs:/FileStore/tables/bronze/order_items.csv'\n",
    "products_path = 'dbfs:/FileStore/tables/bronze/products.csv'"
   ]
  },
  {
   "cell_type": "code",
   "execution_count": 0,
   "metadata": {
    "application/vnd.databricks.v1+cell": {
     "cellMetadata": {
      "byteLimit": 2048000,
      "rowLimit": 10000
     },
     "inputWidgets": {},
     "nuid": "957397f9-247b-43f4-aff9-5ebed6a572c0",
     "showTitle": false,
     "title": ""
    }
   },
   "outputs": [],
   "source": [
    "\n",
    "from pyspark.sql.types import IntegerType, StringType, StructField, StructType\n",
    "\n",
    "orders_schema = StructType([\n",
    "    StructField(\"ORDER_ID\", IntegerType(), False),\n",
    "    StructField(\"ORDER_DATETIME\", StringType(), False),\n",
    "    StructField(\"CUSTOMER_ID\", IntegerType(), False),\n",
    "    StructField(\"ORDER_STATUS\", StringType(), False),\n",
    "    StructField(\"STORE_ID\", IntegerType(), False)\n",
    "])\n",
    "\n",
    "store_schema = StructType([\n",
    "    StructField(\"STORE_ID\", IntegerType(), False),\n",
    "    StructField(\"STORE_NAME\", StringType(), False),\n",
    "    # StructField(\"ORDER_STATUS\", StringType(), False),\n",
    "    # StructField(\"STORE_ID\",)\n",
    "])"
   ]
  },
  {
   "cell_type": "code",
   "execution_count": 0,
   "metadata": {
    "application/vnd.databricks.v1+cell": {
     "cellMetadata": {
      "byteLimit": 2048000,
      "rowLimit": 10000
     },
     "inputWidgets": {},
     "nuid": "2425f16b-fed0-4348-b48c-2db6d7ddb3c5",
     "showTitle": false,
     "title": ""
    }
   },
   "outputs": [],
   "source": [
    "orders_df = spark.read.csv(path=orders_path, schema=orders_schema, header=True)\n",
    "\n",
    "store_df = spark.read.csv(path=store_path, schema=store_schema, header=True)"
   ]
  },
  {
   "cell_type": "code",
   "execution_count": 0,
   "metadata": {
    "application/vnd.databricks.v1+cell": {
     "cellMetadata": {
      "byteLimit": 2048000,
      "rowLimit": 10000
     },
     "inputWidgets": {},
     "nuid": "18f375f2-3498-4bf2-8623-341d4db59c8e",
     "showTitle": false,
     "title": ""
    }
   },
   "outputs": [],
   "source": [
    "orders_df.display()"
   ]
  },
  {
   "cell_type": "code",
   "execution_count": 0,
   "metadata": {
    "application/vnd.databricks.v1+cell": {
     "cellMetadata": {
      "byteLimit": 2048000,
      "rowLimit": 10000
     },
     "inputWidgets": {},
     "nuid": "b31573c0-7f3c-4f3b-ba35-65a614c00858",
     "showTitle": false,
     "title": ""
    }
   },
   "outputs": [],
   "source": [
    "store_df.display() "
   ]
  },
  {
   "cell_type": "code",
   "execution_count": 0,
   "metadata": {
    "application/vnd.databricks.v1+cell": {
     "cellMetadata": {
      "byteLimit": 2048000,
      "rowLimit": 10000
     },
     "inputWidgets": {},
     "nuid": "1759754e-edba-4f06-aa3a-9c89e9546ec8",
     "showTitle": false,
     "title": ""
    }
   },
   "outputs": [],
   "source": [
    "orders_silver = orders_df.join(store_df, orders_df['STORE_ID'] == store_df['STORE_ID'])"
   ]
  },
  {
   "cell_type": "code",
   "execution_count": 0,
   "metadata": {
    "application/vnd.databricks.v1+cell": {
     "cellMetadata": {
      "byteLimit": 2048000,
      "rowLimit": 10000
     },
     "inputWidgets": {},
     "nuid": "c79f43cc-51d0-404a-92ec-23f3f05e3fe3",
     "showTitle": false,
     "title": ""
    }
   },
   "outputs": [],
   "source": [
    "orders_silver.display()"
   ]
  },
  {
   "cell_type": "code",
   "execution_count": 0,
   "metadata": {
    "application/vnd.databricks.v1+cell": {
     "cellMetadata": {
      "byteLimit": 2048000,
      "rowLimit": 10000
     },
     "inputWidgets": {},
     "nuid": "3bb8e33d-1861-426f-a90b-11c382660197",
     "showTitle": false,
     "title": ""
    }
   },
   "outputs": [],
   "source": [
    "from pyspark.sql.functions import to_timestamp\n",
    "\n",
    "\n",
    "selected_orders = orders_silver.select(orders_silver['ORDER_ID'], to_timestamp(orders_silver['ORDER_DATETIME'], 'dd-MMM-yy HH.mm.ss.00').alias('ORDER_TIMESTAMP'), orders_silver['CUSTOMER_ID'], orders_silver['STORE_NAME']).where(orders_silver['ORDER_STATUS'] == 'COMPLETE')"
   ]
  },
  {
   "cell_type": "code",
   "execution_count": 0,
   "metadata": {
    "application/vnd.databricks.v1+cell": {
     "cellMetadata": {
      "byteLimit": 2048000,
      "rowLimit": 10000
     },
     "inputWidgets": {},
     "nuid": "2cadf9ae-80b6-4492-b019-42cf9c4e460c",
     "showTitle": false,
     "title": ""
    }
   },
   "outputs": [],
   "source": [
    "selected_orders.display()"
   ]
  },
  {
   "cell_type": "code",
   "execution_count": 0,
   "metadata": {
    "application/vnd.databricks.v1+cell": {
     "cellMetadata": {
      "byteLimit": 2048000,
      "rowLimit": 10000
     },
     "inputWidgets": {},
     "nuid": "4b43b530-74bb-4b00-8034-a54a7e47d54b",
     "showTitle": false,
     "title": ""
    }
   },
   "outputs": [],
   "source": [
    "selected_orders.write.parquet(path='dbfs:/FileStore/tables/silver/orders', mode=\"overwrite\")"
   ]
  },
  {
   "cell_type": "code",
   "execution_count": 0,
   "metadata": {
    "application/vnd.databricks.v1+cell": {
     "cellMetadata": {
      "byteLimit": 2048000,
      "rowLimit": 10000
     },
     "inputWidgets": {},
     "nuid": "89b9aff6-73b0-449a-8b39-8a7a11a8d45a",
     "showTitle": false,
     "title": ""
    }
   },
   "outputs": [],
   "source": [
    "spark.read.parquet('dbfs:/FileStore/tables/silver/orders', header=True).display()\n"
   ]
  },
  {
   "cell_type": "code",
   "execution_count": 0,
   "metadata": {
    "application/vnd.databricks.v1+cell": {
     "cellMetadata": {
      "byteLimit": 2048000,
      "rowLimit": 10000
     },
     "inputWidgets": {},
     "nuid": "b2eec6fa-14d5-4240-82f5-131761f19b3e",
     "showTitle": false,
     "title": ""
    }
   },
   "outputs": [],
   "source": [
    "\n",
    "from pyspark.sql.types import IntegerType, StringType, StructField, StructType\n",
    "\n",
    "customers_schema = StructType([\n",
    "    StructField(\"CUSTOMER_ID\", IntegerType(), False),\n",
    "    StructField(\"FULL_NAME\", StringType(), False),\n",
    "    StructField(\"EMAIL_ADDRESS\", StringType(), False),\n",
    "])\n"
   ]
  },
  {
   "cell_type": "code",
   "execution_count": 0,
   "metadata": {
    "application/vnd.databricks.v1+cell": {
     "cellMetadata": {
      "byteLimit": 2048000,
      "rowLimit": 10000
     },
     "inputWidgets": {},
     "nuid": "d28e5e2d-2f8d-4a8e-b6d8-793c11a788c4",
     "showTitle": false,
     "title": ""
    }
   },
   "outputs": [],
   "source": [
    "customers_df = spark.read.csv(path=customers_path, schema=customers_schema, header=True)"
   ]
  },
  {
   "cell_type": "code",
   "execution_count": 0,
   "metadata": {
    "application/vnd.databricks.v1+cell": {
     "cellMetadata": {
      "byteLimit": 2048000,
      "rowLimit": 10000
     },
     "inputWidgets": {},
     "nuid": "e8d40870-1b3d-4168-8cf1-a9fee4fac25b",
     "showTitle": false,
     "title": ""
    }
   },
   "outputs": [],
   "source": [
    "customers_df.display()"
   ]
  },
  {
   "cell_type": "code",
   "execution_count": 0,
   "metadata": {
    "application/vnd.databricks.v1+cell": {
     "cellMetadata": {
      "byteLimit": 2048000,
      "rowLimit": 10000
     },
     "inputWidgets": {},
     "nuid": "5df77ff8-726b-4ebf-9a5f-acafc2acb05c",
     "showTitle": false,
     "title": ""
    }
   },
   "outputs": [],
   "source": [
    "customers_df.write.parquet(path='dbfs:/FileStore/tables/silver/customers', mode=\"overwrite\")"
   ]
  },
  {
   "cell_type": "code",
   "execution_count": 0,
   "metadata": {
    "application/vnd.databricks.v1+cell": {
     "cellMetadata": {
      "byteLimit": 2048000,
      "rowLimit": 10000
     },
     "inputWidgets": {},
     "nuid": "65f589a1-b1fb-4436-a534-553db5745eab",
     "showTitle": false,
     "title": ""
    }
   },
   "outputs": [],
   "source": [
    "\n",
    "from pyspark.sql.types import IntegerType, StringType, StructField, StructType, DoubleType\n",
    "\n",
    "product_schema = StructType([\n",
    "    StructField(\"PRODUCT_ID\", IntegerType(), False),\n",
    "    StructField(\"PRODUCT_NAME\", StringType(), False),\n",
    "    StructField(\"UNIT_PRICE\", DoubleType(), False),\n",
    "])"
   ]
  },
  {
   "cell_type": "code",
   "execution_count": 0,
   "metadata": {
    "application/vnd.databricks.v1+cell": {
     "cellMetadata": {
      "byteLimit": 2048000,
      "rowLimit": 10000
     },
     "inputWidgets": {},
     "nuid": "c5d0dc18-4cd2-41cb-a464-d22429a23590",
     "showTitle": false,
     "title": ""
    }
   },
   "outputs": [],
   "source": [
    "products_df = spark.read.csv(path=products_path, schema=product_schema, header=True)"
   ]
  },
  {
   "cell_type": "code",
   "execution_count": 0,
   "metadata": {
    "application/vnd.databricks.v1+cell": {
     "cellMetadata": {
      "byteLimit": 2048000,
      "rowLimit": 10000
     },
     "inputWidgets": {},
     "nuid": "29081f08-25d6-4ad3-a9a3-63d64b8464b8",
     "showTitle": false,
     "title": ""
    }
   },
   "outputs": [],
   "source": [
    "products_df.display()"
   ]
  },
  {
   "cell_type": "code",
   "execution_count": 0,
   "metadata": {
    "application/vnd.databricks.v1+cell": {
     "cellMetadata": {
      "byteLimit": 2048000,
      "rowLimit": 10000
     },
     "inputWidgets": {},
     "nuid": "840a8c72-8dd8-4983-bb72-e522c0d4b840",
     "showTitle": false,
     "title": ""
    }
   },
   "outputs": [],
   "source": [
    "products_df.write.parquet(path='dbfs:/FileStore/tables/silver/products', mode='overwrite')"
   ]
  },
  {
   "cell_type": "code",
   "execution_count": 0,
   "metadata": {
    "application/vnd.databricks.v1+cell": {
     "cellMetadata": {
      "byteLimit": 2048000,
      "rowLimit": 10000
     },
     "inputWidgets": {},
     "nuid": "8981f6ec-4928-4fd7-97c1-e5d8c5c242ed",
     "showTitle": false,
     "title": ""
    }
   },
   "outputs": [],
   "source": [
    "\n",
    "from pyspark.sql.types import IntegerType, StringType, StructField, StructType, DoubleType\n",
    "\n",
    "order_items_schema = StructType([\n",
    "    StructField(\"ORDER_ID\", IntegerType(), False),\n",
    "    StructField(\"LINE_ITEM_ID\", IntegerType(), False),\n",
    "    StructField(\"PRODUCT_ID\", IntegerType(), False),\n",
    "    StructField(\"UNIT_PRICE\", DoubleType(), False),\n",
    "    StructField(\"QUANTITY\", IntegerType(), False),\n",
    "])"
   ]
  },
  {
   "cell_type": "code",
   "execution_count": 0,
   "metadata": {
    "application/vnd.databricks.v1+cell": {
     "cellMetadata": {
      "byteLimit": 2048000,
      "rowLimit": 10000
     },
     "inputWidgets": {},
     "nuid": "8c05d30c-af00-4291-9d52-2cbde60748a3",
     "showTitle": false,
     "title": ""
    }
   },
   "outputs": [],
   "source": [
    "order_items_df = spark.read.csv(path=order_items_path, schema=order_items_schema, header=\"True\")"
   ]
  },
  {
   "cell_type": "code",
   "execution_count": 0,
   "metadata": {
    "application/vnd.databricks.v1+cell": {
     "cellMetadata": {
      "byteLimit": 2048000,
      "rowLimit": 10000
     },
     "inputWidgets": {},
     "nuid": "14b8bc45-7462-4832-bf90-e927bdd697ce",
     "showTitle": false,
     "title": ""
    }
   },
   "outputs": [],
   "source": [
    "order_items_df.display()"
   ]
  },
  {
   "cell_type": "code",
   "execution_count": 0,
   "metadata": {
    "application/vnd.databricks.v1+cell": {
     "cellMetadata": {
      "byteLimit": 2048000,
      "rowLimit": 10000
     },
     "inputWidgets": {},
     "nuid": "f3aac889-afc6-42b2-99d6-a3cdd38cd3c7",
     "showTitle": false,
     "title": ""
    }
   },
   "outputs": [],
   "source": [
    "ordered_items = order_items_df.select(order_items_df['ORDER_ID'], order_items_df['PRODUCT_ID'], order_items_df['UNIT_PRICE'], order_items_df['QUANTITY'])"
   ]
  },
  {
   "cell_type": "code",
   "execution_count": 0,
   "metadata": {
    "application/vnd.databricks.v1+cell": {
     "cellMetadata": {
      "byteLimit": 2048000,
      "rowLimit": 10000
     },
     "inputWidgets": {},
     "nuid": "94275473-3425-47c5-8910-8dc814fbb549",
     "showTitle": false,
     "title": ""
    }
   },
   "outputs": [],
   "source": [
    "ordered_items.display()"
   ]
  },
  {
   "cell_type": "code",
   "execution_count": 0,
   "metadata": {
    "application/vnd.databricks.v1+cell": {
     "cellMetadata": {
      "byteLimit": 2048000,
      "rowLimit": 10000
     },
     "inputWidgets": {},
     "nuid": "c2d2d4f7-3f56-4708-b5db-a602f0ae0940",
     "showTitle": false,
     "title": ""
    }
   },
   "outputs": [],
   "source": [
    "ordered_items.write.parquet(path='dbfs:/FileStore/tables/silver/order_items', mode='overwrite')"
   ]
  },
  {
   "cell_type": "code",
   "execution_count": 0,
   "metadata": {
    "application/vnd.databricks.v1+cell": {
     "cellMetadata": {
      "byteLimit": 2048000,
      "rowLimit": 10000
     },
     "inputWidgets": {},
     "nuid": "bf9b07bf-1fce-4c8f-af01-a0280ea94196",
     "showTitle": false,
     "title": ""
    }
   },
   "outputs": [],
   "source": []
  }
 ],
 "metadata": {
  "application/vnd.databricks.v1+notebook": {
   "dashboards": [],
   "language": "python",
   "notebookMetadata": {
    "pythonIndentUnit": 4
   },
   "notebookName": "silver",
   "widgets": {}
  },
  "kernelspec": {
   "display_name": "python_selenium",
   "language": "python",
   "name": "python3"
  },
  "language_info": {
   "codemirror_mode": {
    "name": "ipython",
    "version": 3
   },
   "file_extension": ".py",
   "mimetype": "text/x-python",
   "name": "python",
   "nbconvert_exporter": "python",
   "pygments_lexer": "ipython3",
   "version": "3.11.6"
  }
 },
 "nbformat": 4,
 "nbformat_minor": 0
}
